{
  "nbformat": 4,
  "nbformat_minor": 0,
  "metadata": {
    "colab": {
      "private_outputs": true,
      "provenance": []
    },
    "kernelspec": {
      "name": "python3",
      "display_name": "Python 3"
    },
    "language_info": {
      "name": "python"
    }
  },
  "cells": [
    {
      "cell_type": "code",
      "execution_count": null,
      "metadata": {
        "id": "R_5BR-8nmBDH"
      },
      "outputs": [],
      "source": [
        "import pandas as pd\n",
        "\n",
        "# Load dataset\n",
        "df = pd.read_csv(\"EV_Dataset.csv\")\n",
        "\n",
        "# Check structure\n",
        "print(df.head())\n",
        "\n",
        "# Clean data\n",
        "df['State'] = df['State'].str.strip().str.title()  # Standardize names\n",
        "df['Year'] = pd.to_datetime(df['Registration_Date']).dt.year  # Extract year\n",
        "df = df.dropna(subset=['Vehicle_Type', 'State'])\n"
      ]
    },
    {
      "cell_type": "code",
      "source": [
        "ev_trend = df.groupby('Year')['EV_Sales_Quantity'].sum().reset_index()\n",
        "ev_trend.rename(columns={'EV_Sales_Quantity': 'Total_Sales'}, inplace=True)\n",
        "print(ev_trend)"
      ],
      "metadata": {
        "id": "vYmbGc5dnJNL"
      },
      "execution_count": null,
      "outputs": []
    },
    {
      "cell_type": "code",
      "source": [
        "top_states = df.groupby('State').size().reset_index(name='Count')\n",
        "top_states = top_states.sort_values(by='Count', ascending=False).head(5)\n",
        "print(top_states)"
      ],
      "metadata": {
        "id": "adywiUhlngE-"
      },
      "execution_count": null,
      "outputs": []
    },
    {
      "cell_type": "code",
      "source": [
        "type_share = df['Vehicle_Type'].value_counts(normalize=True) * 100\n",
        "print(type_share)\n"
      ],
      "metadata": {
        "id": "QD1v2vaXnonQ"
      },
      "execution_count": null,
      "outputs": []
    },
    {
      "cell_type": "code",
      "source": [
        "import matplotlib.pyplot as plt\n",
        "import seaborn as sns\n",
        "\n",
        "# 1. EV growth over time\n",
        "sns.lineplot(data=ev_trend, x='Year', y='Total_Sales')\n",
        "plt.title(\"EV Registrations Growth in India (2019–2024)\")\n",
        "plt.xlabel(\"Year\")\n",
        "plt.ylabel(\"Number of EVs\")\n",
        "plt.show()\n",
        "\n",
        "# 2. Top 5 states\n",
        "sns.barplot(data=top_states, x='Count', y='State')\n",
        "plt.title(\"Top 5 States for EV Adoption\")\n",
        "plt.xlabel(\"Total Registrations\")\n",
        "plt.ylabel(\"State\")\n",
        "plt.show()\n",
        "\n",
        "# 3. Vehicle type share\n",
        "type_share.plot(kind='pie', autopct='%1.1f%%', title=\"EV Type Distribution\")\n",
        "plt.ylabel(\"\")\n",
        "plt.show()"
      ],
      "metadata": {
        "id": "bOMfL5S-nu7M"
      },
      "execution_count": null,
      "outputs": []
    },
    {
      "cell_type": "code",
      "source": [],
      "metadata": {
        "id": "p92exfmUnyyf"
      },
      "execution_count": null,
      "outputs": []
    }
  ]
}